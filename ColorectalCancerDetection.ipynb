{
 "cells": [
  {
   "cell_type": "markdown",
   "id": "b316e1c5",
   "metadata": {},
   "source": [
    "## Understand The DataSet"
   ]
  },
  {
   "cell_type": "raw",
   "id": "6b3f7688",
   "metadata": {},
   "source": [
    "Age: at Diagnosis (in Years)\n",
    "Dukes Stage: A to D (development/progression of disease)\n",
    "Gender: Male or Female\n",
    "Location: Left, Right, Colon or Rectum\n",
    "DFS: Disease-free survival, months (survival without the disease returning)\n",
    "DFS event: 0 or 1 (with 1 = event)\n",
    "Adj_Radio: If the patient also received radiotherapy\n",
    "Adj_Chem: If the patient also received chemotherapy"
   ]
  },
  {
   "cell_type": "markdown",
   "id": "59802fd2",
   "metadata": {},
   "source": [
    "## Import Libraries"
   ]
  },
  {
   "cell_type": "code",
   "execution_count": 63,
   "id": "73906023",
   "metadata": {},
   "outputs": [],
   "source": [
    "import pandas as pd\n",
    "import matplotlib.pyplot as plt\n",
    "import seaborn as sns\n",
    "from sklearn.preprocessing import LabelEncoder\n",
    "from sklearn.model_selection import train_test_split\n",
    "from sklearn.ensemble import RandomForestClassifier\n",
    "from sklearn.metrics import classification_report, roc_auc_score\n",
    "from sklearn.model_selection import GridSearchCV"
   ]
  },
  {
   "cell_type": "markdown",
   "id": "2b0ae424",
   "metadata": {},
   "source": [
    "## Load DataSet"
   ]
  },
  {
   "cell_type": "code",
   "execution_count": 64,
   "id": "78d0bd52",
   "metadata": {},
   "outputs": [
    {
     "data": {
      "text/html": [
       "<div>\n",
       "<style scoped>\n",
       "    .dataframe tbody tr th:only-of-type {\n",
       "        vertical-align: middle;\n",
       "    }\n",
       "\n",
       "    .dataframe tbody tr th {\n",
       "        vertical-align: top;\n",
       "    }\n",
       "\n",
       "    .dataframe thead th {\n",
       "        text-align: right;\n",
       "    }\n",
       "</style>\n",
       "<table border=\"1\" class=\"dataframe\">\n",
       "  <thead>\n",
       "    <tr style=\"text-align: right;\">\n",
       "      <th></th>\n",
       "      <th>Unnamed: 0</th>\n",
       "      <th>ID_REF</th>\n",
       "      <th>Age (in years)</th>\n",
       "      <th>Dukes Stage</th>\n",
       "      <th>Gender</th>\n",
       "      <th>Location</th>\n",
       "      <th>DFS (in months)</th>\n",
       "      <th>DFS event</th>\n",
       "      <th>Adj_Radio</th>\n",
       "      <th>Adj_Chem</th>\n",
       "    </tr>\n",
       "  </thead>\n",
       "  <tbody>\n",
       "    <tr>\n",
       "      <th>0</th>\n",
       "      <td>0</td>\n",
       "      <td>GSM877126</td>\n",
       "      <td>62.0</td>\n",
       "      <td>A</td>\n",
       "      <td>Male</td>\n",
       "      <td>Left</td>\n",
       "      <td>108.0</td>\n",
       "      <td>0.0</td>\n",
       "      <td>1.0</td>\n",
       "      <td>0.0</td>\n",
       "    </tr>\n",
       "    <tr>\n",
       "      <th>1</th>\n",
       "      <td>1</td>\n",
       "      <td>GSM877127</td>\n",
       "      <td>77.0</td>\n",
       "      <td>B</td>\n",
       "      <td>Male</td>\n",
       "      <td>Left</td>\n",
       "      <td>40.0</td>\n",
       "      <td>1.0</td>\n",
       "      <td>1.0</td>\n",
       "      <td>0.0</td>\n",
       "    </tr>\n",
       "    <tr>\n",
       "      <th>2</th>\n",
       "      <td>2</td>\n",
       "      <td>GSM877128</td>\n",
       "      <td>66.0</td>\n",
       "      <td>C</td>\n",
       "      <td>Female</td>\n",
       "      <td>Left</td>\n",
       "      <td>49.0</td>\n",
       "      <td>0.0</td>\n",
       "      <td>1.0</td>\n",
       "      <td>0.0</td>\n",
       "    </tr>\n",
       "    <tr>\n",
       "      <th>3</th>\n",
       "      <td>3</td>\n",
       "      <td>GSM877129</td>\n",
       "      <td>72.0</td>\n",
       "      <td>D</td>\n",
       "      <td>Female</td>\n",
       "      <td>Left</td>\n",
       "      <td>45.0</td>\n",
       "      <td>0.0</td>\n",
       "      <td>1.0</td>\n",
       "      <td>1.0</td>\n",
       "    </tr>\n",
       "    <tr>\n",
       "      <th>4</th>\n",
       "      <td>4</td>\n",
       "      <td>GSM877130</td>\n",
       "      <td>75.0</td>\n",
       "      <td>C</td>\n",
       "      <td>Male</td>\n",
       "      <td>Left</td>\n",
       "      <td>40.0</td>\n",
       "      <td>0.0</td>\n",
       "      <td>0.0</td>\n",
       "      <td>1.0</td>\n",
       "    </tr>\n",
       "    <tr>\n",
       "      <th>5</th>\n",
       "      <td>5</td>\n",
       "      <td>GSM877131</td>\n",
       "      <td>61.0</td>\n",
       "      <td>A</td>\n",
       "      <td>Male</td>\n",
       "      <td>Right</td>\n",
       "      <td>65.0</td>\n",
       "      <td>0.0</td>\n",
       "      <td>1.0</td>\n",
       "      <td>1.0</td>\n",
       "    </tr>\n",
       "    <tr>\n",
       "      <th>6</th>\n",
       "      <td>6</td>\n",
       "      <td>GSM877132</td>\n",
       "      <td>59.0</td>\n",
       "      <td>C</td>\n",
       "      <td>Male</td>\n",
       "      <td>Left</td>\n",
       "      <td>32.0</td>\n",
       "      <td>1.0</td>\n",
       "      <td>1.0</td>\n",
       "      <td>1.0</td>\n",
       "    </tr>\n",
       "    <tr>\n",
       "      <th>7</th>\n",
       "      <td>7</td>\n",
       "      <td>GSM877133</td>\n",
       "      <td>50.0</td>\n",
       "      <td>B</td>\n",
       "      <td>Male</td>\n",
       "      <td>Right</td>\n",
       "      <td>43.0</td>\n",
       "      <td>1.0</td>\n",
       "      <td>0.0</td>\n",
       "      <td>0.0</td>\n",
       "    </tr>\n",
       "    <tr>\n",
       "      <th>8</th>\n",
       "      <td>8</td>\n",
       "      <td>GSM877134</td>\n",
       "      <td>54.0</td>\n",
       "      <td>B</td>\n",
       "      <td>Male</td>\n",
       "      <td>Right</td>\n",
       "      <td>80.0</td>\n",
       "      <td>0.0</td>\n",
       "      <td>1.0</td>\n",
       "      <td>1.0</td>\n",
       "    </tr>\n",
       "    <tr>\n",
       "      <th>9</th>\n",
       "      <td>9</td>\n",
       "      <td>GSM877135</td>\n",
       "      <td>68.0</td>\n",
       "      <td>C</td>\n",
       "      <td>Female</td>\n",
       "      <td>Rectum</td>\n",
       "      <td>94.0</td>\n",
       "      <td>0.0</td>\n",
       "      <td>0.0</td>\n",
       "      <td>0.0</td>\n",
       "    </tr>\n",
       "  </tbody>\n",
       "</table>\n",
       "</div>"
      ],
      "text/plain": [
       "   Unnamed: 0     ID_REF  Age (in years) Dukes Stage  Gender Location  \\\n",
       "0           0  GSM877126            62.0           A    Male     Left   \n",
       "1           1  GSM877127            77.0           B    Male     Left   \n",
       "2           2  GSM877128            66.0           C  Female     Left   \n",
       "3           3  GSM877129            72.0           D  Female     Left   \n",
       "4           4  GSM877130            75.0           C    Male     Left   \n",
       "5           5  GSM877131            61.0           A    Male    Right   \n",
       "6           6  GSM877132            59.0           C    Male     Left   \n",
       "7           7  GSM877133            50.0           B    Male    Right   \n",
       "8           8  GSM877134            54.0           B    Male    Right   \n",
       "9           9  GSM877135            68.0           C  Female   Rectum   \n",
       "\n",
       "   DFS (in months)  DFS event  Adj_Radio  Adj_Chem  \n",
       "0            108.0        0.0        1.0       0.0  \n",
       "1             40.0        1.0        1.0       0.0  \n",
       "2             49.0        0.0        1.0       0.0  \n",
       "3             45.0        0.0        1.0       1.0  \n",
       "4             40.0        0.0        0.0       1.0  \n",
       "5             65.0        0.0        1.0       1.0  \n",
       "6             32.0        1.0        1.0       1.0  \n",
       "7             43.0        1.0        0.0       0.0  \n",
       "8             80.0        0.0        1.0       1.0  \n",
       "9             94.0        0.0        0.0       0.0  "
      ]
     },
     "execution_count": 64,
     "metadata": {},
     "output_type": "execute_result"
    }
   ],
   "source": [
    "data = pd.read_csv(\"Colorectal Cancer Patient Data.csv\")\n",
    "data.head(10)"
   ]
  },
  {
   "cell_type": "code",
   "execution_count": 65,
   "id": "d002a33a",
   "metadata": {},
   "outputs": [
    {
     "data": {
      "text/html": [
       "<div>\n",
       "<style scoped>\n",
       "    .dataframe tbody tr th:only-of-type {\n",
       "        vertical-align: middle;\n",
       "    }\n",
       "\n",
       "    .dataframe tbody tr th {\n",
       "        vertical-align: top;\n",
       "    }\n",
       "\n",
       "    .dataframe thead th {\n",
       "        text-align: right;\n",
       "    }\n",
       "</style>\n",
       "<table border=\"1\" class=\"dataframe\">\n",
       "  <thead>\n",
       "    <tr style=\"text-align: right;\">\n",
       "      <th></th>\n",
       "      <th>Unnamed: 0</th>\n",
       "      <th>ID_REF</th>\n",
       "      <th>Age (in years)</th>\n",
       "      <th>Dukes Stage</th>\n",
       "      <th>Gender</th>\n",
       "      <th>Location</th>\n",
       "      <th>DFS (in months)</th>\n",
       "      <th>DFS event</th>\n",
       "      <th>Adj_Radio</th>\n",
       "      <th>Adj_Chem</th>\n",
       "    </tr>\n",
       "  </thead>\n",
       "  <tbody>\n",
       "    <tr>\n",
       "      <th>53</th>\n",
       "      <td>53</td>\n",
       "      <td>GSM877180</td>\n",
       "      <td>69.0</td>\n",
       "      <td>D</td>\n",
       "      <td>Male</td>\n",
       "      <td>Right</td>\n",
       "      <td>46.0</td>\n",
       "      <td>1.0</td>\n",
       "      <td>0.0</td>\n",
       "      <td>1.0</td>\n",
       "    </tr>\n",
       "    <tr>\n",
       "      <th>54</th>\n",
       "      <td>54</td>\n",
       "      <td>GSM877181</td>\n",
       "      <td>73.0</td>\n",
       "      <td>D</td>\n",
       "      <td>Male</td>\n",
       "      <td>Right</td>\n",
       "      <td>23.0</td>\n",
       "      <td>1.0</td>\n",
       "      <td>0.0</td>\n",
       "      <td>1.0</td>\n",
       "    </tr>\n",
       "    <tr>\n",
       "      <th>55</th>\n",
       "      <td>55</td>\n",
       "      <td>GSM877182</td>\n",
       "      <td>55.0</td>\n",
       "      <td>D</td>\n",
       "      <td>Male</td>\n",
       "      <td>Right</td>\n",
       "      <td>14.0</td>\n",
       "      <td>1.0</td>\n",
       "      <td>0.0</td>\n",
       "      <td>0.0</td>\n",
       "    </tr>\n",
       "    <tr>\n",
       "      <th>56</th>\n",
       "      <td>56</td>\n",
       "      <td>GSM877183</td>\n",
       "      <td>63.0</td>\n",
       "      <td>D</td>\n",
       "      <td>Male</td>\n",
       "      <td>Rectum</td>\n",
       "      <td>18.0</td>\n",
       "      <td>1.0</td>\n",
       "      <td>1.0</td>\n",
       "      <td>1.0</td>\n",
       "    </tr>\n",
       "    <tr>\n",
       "      <th>57</th>\n",
       "      <td>57</td>\n",
       "      <td>GSM877184</td>\n",
       "      <td>54.0</td>\n",
       "      <td>C</td>\n",
       "      <td>Male</td>\n",
       "      <td>Left</td>\n",
       "      <td>22.0</td>\n",
       "      <td>1.0</td>\n",
       "      <td>0.0</td>\n",
       "      <td>0.0</td>\n",
       "    </tr>\n",
       "    <tr>\n",
       "      <th>58</th>\n",
       "      <td>58</td>\n",
       "      <td>GSM877185</td>\n",
       "      <td>48.0</td>\n",
       "      <td>D</td>\n",
       "      <td>Male</td>\n",
       "      <td>Right</td>\n",
       "      <td>64.0</td>\n",
       "      <td>0.0</td>\n",
       "      <td>1.0</td>\n",
       "      <td>0.0</td>\n",
       "    </tr>\n",
       "    <tr>\n",
       "      <th>59</th>\n",
       "      <td>59</td>\n",
       "      <td>GSM877186</td>\n",
       "      <td>65.0</td>\n",
       "      <td>C</td>\n",
       "      <td>Male</td>\n",
       "      <td>Left</td>\n",
       "      <td>25.0</td>\n",
       "      <td>1.0</td>\n",
       "      <td>1.0</td>\n",
       "      <td>0.0</td>\n",
       "    </tr>\n",
       "    <tr>\n",
       "      <th>60</th>\n",
       "      <td>60</td>\n",
       "      <td>GSM877187</td>\n",
       "      <td>71.0</td>\n",
       "      <td>A</td>\n",
       "      <td>Male</td>\n",
       "      <td>Rectum</td>\n",
       "      <td>58.0</td>\n",
       "      <td>1.0</td>\n",
       "      <td>1.0</td>\n",
       "      <td>0.0</td>\n",
       "    </tr>\n",
       "    <tr>\n",
       "      <th>61</th>\n",
       "      <td>61</td>\n",
       "      <td>GSM877188</td>\n",
       "      <td>57.0</td>\n",
       "      <td>A</td>\n",
       "      <td>Male</td>\n",
       "      <td>Rectum</td>\n",
       "      <td>68.0</td>\n",
       "      <td>1.0</td>\n",
       "      <td>0.0</td>\n",
       "      <td>0.0</td>\n",
       "    </tr>\n",
       "    <tr>\n",
       "      <th>62</th>\n",
       "      <td>62</td>\n",
       "      <td>NaN</td>\n",
       "      <td>NaN</td>\n",
       "      <td>NaN</td>\n",
       "      <td>NaN</td>\n",
       "      <td>NaN</td>\n",
       "      <td>NaN</td>\n",
       "      <td>NaN</td>\n",
       "      <td>NaN</td>\n",
       "      <td>NaN</td>\n",
       "    </tr>\n",
       "  </tbody>\n",
       "</table>\n",
       "</div>"
      ],
      "text/plain": [
       "    Unnamed: 0     ID_REF  Age (in years) Dukes Stage Gender Location  \\\n",
       "53          53  GSM877180            69.0           D   Male    Right   \n",
       "54          54  GSM877181            73.0           D   Male    Right   \n",
       "55          55  GSM877182            55.0           D   Male    Right   \n",
       "56          56  GSM877183            63.0           D   Male   Rectum   \n",
       "57          57  GSM877184            54.0           C   Male     Left   \n",
       "58          58  GSM877185            48.0           D   Male    Right   \n",
       "59          59  GSM877186            65.0           C   Male     Left   \n",
       "60          60  GSM877187            71.0           A   Male   Rectum   \n",
       "61          61  GSM877188            57.0           A   Male   Rectum   \n",
       "62          62        NaN             NaN         NaN    NaN      NaN   \n",
       "\n",
       "    DFS (in months)  DFS event  Adj_Radio  Adj_Chem  \n",
       "53             46.0        1.0        0.0       1.0  \n",
       "54             23.0        1.0        0.0       1.0  \n",
       "55             14.0        1.0        0.0       0.0  \n",
       "56             18.0        1.0        1.0       1.0  \n",
       "57             22.0        1.0        0.0       0.0  \n",
       "58             64.0        0.0        1.0       0.0  \n",
       "59             25.0        1.0        1.0       0.0  \n",
       "60             58.0        1.0        1.0       0.0  \n",
       "61             68.0        1.0        0.0       0.0  \n",
       "62              NaN        NaN        NaN       NaN  "
      ]
     },
     "execution_count": 65,
     "metadata": {},
     "output_type": "execute_result"
    }
   ],
   "source": [
    "data.tail(10)"
   ]
  },
  {
   "cell_type": "markdown",
   "id": "e57feea2",
   "metadata": {},
   "source": [
    "## Preprocess DataSet"
   ]
  },
  {
   "cell_type": "code",
   "execution_count": 66,
   "id": "e93a3610",
   "metadata": {},
   "outputs": [
    {
     "name": "stdout",
     "output_type": "stream",
     "text": [
      "<class 'pandas.core.frame.DataFrame'>\n",
      "RangeIndex: 63 entries, 0 to 62\n",
      "Data columns (total 10 columns):\n",
      " #   Column           Non-Null Count  Dtype  \n",
      "---  ------           --------------  -----  \n",
      " 0   Unnamed: 0       63 non-null     int64  \n",
      " 1   ID_REF           62 non-null     object \n",
      " 2   Age (in years)   62 non-null     float64\n",
      " 3   Dukes Stage      62 non-null     object \n",
      " 4   Gender           62 non-null     object \n",
      " 5   Location         62 non-null     object \n",
      " 6   DFS (in months)  62 non-null     float64\n",
      " 7   DFS event        62 non-null     float64\n",
      " 8   Adj_Radio        62 non-null     float64\n",
      " 9   Adj_Chem         62 non-null     float64\n",
      "dtypes: float64(5), int64(1), object(4)\n",
      "memory usage: 5.1+ KB\n"
     ]
    }
   ],
   "source": [
    "data.info()"
   ]
  },
  {
   "cell_type": "code",
   "execution_count": 67,
   "id": "0a03c44e",
   "metadata": {},
   "outputs": [
    {
     "data": {
      "text/plain": [
       "Unnamed: 0         0\n",
       "ID_REF             1\n",
       "Age (in years)     1\n",
       "Dukes Stage        1\n",
       "Gender             1\n",
       "Location           1\n",
       "DFS (in months)    1\n",
       "DFS event          1\n",
       "Adj_Radio          1\n",
       "Adj_Chem           1\n",
       "dtype: int64"
      ]
     },
     "execution_count": 67,
     "metadata": {},
     "output_type": "execute_result"
    }
   ],
   "source": [
    "data.isnull().sum()"
   ]
  },
  {
   "cell_type": "code",
   "execution_count": 68,
   "id": "3842d1fe",
   "metadata": {},
   "outputs": [],
   "source": [
    "data = data.dropna()"
   ]
  },
  {
   "cell_type": "code",
   "execution_count": 69,
   "id": "ea5e0095",
   "metadata": {},
   "outputs": [
    {
     "data": {
      "text/plain": [
       "Unnamed: 0         0\n",
       "ID_REF             0\n",
       "Age (in years)     0\n",
       "Dukes Stage        0\n",
       "Gender             0\n",
       "Location           0\n",
       "DFS (in months)    0\n",
       "DFS event          0\n",
       "Adj_Radio          0\n",
       "Adj_Chem           0\n",
       "dtype: int64"
      ]
     },
     "execution_count": 69,
     "metadata": {},
     "output_type": "execute_result"
    }
   ],
   "source": [
    "data.isnull().sum()"
   ]
  },
  {
   "cell_type": "code",
   "execution_count": 70,
   "id": "fa4734d6",
   "metadata": {},
   "outputs": [],
   "source": [
    "# encode categorical values\n",
    "\n",
    "label_encoder = LabelEncoder()\n",
    "\n",
    "columns_to_encode = ['Dukes Stage', 'Gender', 'Location']\n",
    "\n",
    "for column in columns_to_encode:\n",
    "    data[column] = label_encoder.fit_transform(data[column])"
   ]
  },
  {
   "cell_type": "code",
   "execution_count": 71,
   "id": "e696b524",
   "metadata": {},
   "outputs": [
    {
     "data": {
      "text/html": [
       "<div>\n",
       "<style scoped>\n",
       "    .dataframe tbody tr th:only-of-type {\n",
       "        vertical-align: middle;\n",
       "    }\n",
       "\n",
       "    .dataframe tbody tr th {\n",
       "        vertical-align: top;\n",
       "    }\n",
       "\n",
       "    .dataframe thead th {\n",
       "        text-align: right;\n",
       "    }\n",
       "</style>\n",
       "<table border=\"1\" class=\"dataframe\">\n",
       "  <thead>\n",
       "    <tr style=\"text-align: right;\">\n",
       "      <th></th>\n",
       "      <th>Unnamed: 0</th>\n",
       "      <th>ID_REF</th>\n",
       "      <th>Age (in years)</th>\n",
       "      <th>Dukes Stage</th>\n",
       "      <th>Gender</th>\n",
       "      <th>Location</th>\n",
       "      <th>DFS (in months)</th>\n",
       "      <th>DFS event</th>\n",
       "      <th>Adj_Radio</th>\n",
       "      <th>Adj_Chem</th>\n",
       "    </tr>\n",
       "  </thead>\n",
       "  <tbody>\n",
       "    <tr>\n",
       "      <th>0</th>\n",
       "      <td>0</td>\n",
       "      <td>GSM877126</td>\n",
       "      <td>62.0</td>\n",
       "      <td>0</td>\n",
       "      <td>1</td>\n",
       "      <td>1</td>\n",
       "      <td>108.0</td>\n",
       "      <td>0.0</td>\n",
       "      <td>1.0</td>\n",
       "      <td>0.0</td>\n",
       "    </tr>\n",
       "    <tr>\n",
       "      <th>1</th>\n",
       "      <td>1</td>\n",
       "      <td>GSM877127</td>\n",
       "      <td>77.0</td>\n",
       "      <td>1</td>\n",
       "      <td>1</td>\n",
       "      <td>1</td>\n",
       "      <td>40.0</td>\n",
       "      <td>1.0</td>\n",
       "      <td>1.0</td>\n",
       "      <td>0.0</td>\n",
       "    </tr>\n",
       "    <tr>\n",
       "      <th>2</th>\n",
       "      <td>2</td>\n",
       "      <td>GSM877128</td>\n",
       "      <td>66.0</td>\n",
       "      <td>2</td>\n",
       "      <td>0</td>\n",
       "      <td>1</td>\n",
       "      <td>49.0</td>\n",
       "      <td>0.0</td>\n",
       "      <td>1.0</td>\n",
       "      <td>0.0</td>\n",
       "    </tr>\n",
       "    <tr>\n",
       "      <th>3</th>\n",
       "      <td>3</td>\n",
       "      <td>GSM877129</td>\n",
       "      <td>72.0</td>\n",
       "      <td>3</td>\n",
       "      <td>0</td>\n",
       "      <td>1</td>\n",
       "      <td>45.0</td>\n",
       "      <td>0.0</td>\n",
       "      <td>1.0</td>\n",
       "      <td>1.0</td>\n",
       "    </tr>\n",
       "    <tr>\n",
       "      <th>4</th>\n",
       "      <td>4</td>\n",
       "      <td>GSM877130</td>\n",
       "      <td>75.0</td>\n",
       "      <td>2</td>\n",
       "      <td>1</td>\n",
       "      <td>1</td>\n",
       "      <td>40.0</td>\n",
       "      <td>0.0</td>\n",
       "      <td>0.0</td>\n",
       "      <td>1.0</td>\n",
       "    </tr>\n",
       "    <tr>\n",
       "      <th>5</th>\n",
       "      <td>5</td>\n",
       "      <td>GSM877131</td>\n",
       "      <td>61.0</td>\n",
       "      <td>0</td>\n",
       "      <td>1</td>\n",
       "      <td>3</td>\n",
       "      <td>65.0</td>\n",
       "      <td>0.0</td>\n",
       "      <td>1.0</td>\n",
       "      <td>1.0</td>\n",
       "    </tr>\n",
       "    <tr>\n",
       "      <th>6</th>\n",
       "      <td>6</td>\n",
       "      <td>GSM877132</td>\n",
       "      <td>59.0</td>\n",
       "      <td>2</td>\n",
       "      <td>1</td>\n",
       "      <td>1</td>\n",
       "      <td>32.0</td>\n",
       "      <td>1.0</td>\n",
       "      <td>1.0</td>\n",
       "      <td>1.0</td>\n",
       "    </tr>\n",
       "    <tr>\n",
       "      <th>7</th>\n",
       "      <td>7</td>\n",
       "      <td>GSM877133</td>\n",
       "      <td>50.0</td>\n",
       "      <td>1</td>\n",
       "      <td>1</td>\n",
       "      <td>3</td>\n",
       "      <td>43.0</td>\n",
       "      <td>1.0</td>\n",
       "      <td>0.0</td>\n",
       "      <td>0.0</td>\n",
       "    </tr>\n",
       "    <tr>\n",
       "      <th>8</th>\n",
       "      <td>8</td>\n",
       "      <td>GSM877134</td>\n",
       "      <td>54.0</td>\n",
       "      <td>1</td>\n",
       "      <td>1</td>\n",
       "      <td>3</td>\n",
       "      <td>80.0</td>\n",
       "      <td>0.0</td>\n",
       "      <td>1.0</td>\n",
       "      <td>1.0</td>\n",
       "    </tr>\n",
       "    <tr>\n",
       "      <th>9</th>\n",
       "      <td>9</td>\n",
       "      <td>GSM877135</td>\n",
       "      <td>68.0</td>\n",
       "      <td>2</td>\n",
       "      <td>0</td>\n",
       "      <td>2</td>\n",
       "      <td>94.0</td>\n",
       "      <td>0.0</td>\n",
       "      <td>0.0</td>\n",
       "      <td>0.0</td>\n",
       "    </tr>\n",
       "  </tbody>\n",
       "</table>\n",
       "</div>"
      ],
      "text/plain": [
       "   Unnamed: 0     ID_REF  Age (in years)  Dukes Stage  Gender  Location  \\\n",
       "0           0  GSM877126            62.0            0       1         1   \n",
       "1           1  GSM877127            77.0            1       1         1   \n",
       "2           2  GSM877128            66.0            2       0         1   \n",
       "3           3  GSM877129            72.0            3       0         1   \n",
       "4           4  GSM877130            75.0            2       1         1   \n",
       "5           5  GSM877131            61.0            0       1         3   \n",
       "6           6  GSM877132            59.0            2       1         1   \n",
       "7           7  GSM877133            50.0            1       1         3   \n",
       "8           8  GSM877134            54.0            1       1         3   \n",
       "9           9  GSM877135            68.0            2       0         2   \n",
       "\n",
       "   DFS (in months)  DFS event  Adj_Radio  Adj_Chem  \n",
       "0            108.0        0.0        1.0       0.0  \n",
       "1             40.0        1.0        1.0       0.0  \n",
       "2             49.0        0.0        1.0       0.0  \n",
       "3             45.0        0.0        1.0       1.0  \n",
       "4             40.0        0.0        0.0       1.0  \n",
       "5             65.0        0.0        1.0       1.0  \n",
       "6             32.0        1.0        1.0       1.0  \n",
       "7             43.0        1.0        0.0       0.0  \n",
       "8             80.0        0.0        1.0       1.0  \n",
       "9             94.0        0.0        0.0       0.0  "
      ]
     },
     "execution_count": 71,
     "metadata": {},
     "output_type": "execute_result"
    }
   ],
   "source": [
    "data.head(10)"
   ]
  },
  {
   "cell_type": "markdown",
   "id": "46c37377",
   "metadata": {},
   "source": [
    "## DataSet Visualization"
   ]
  },
  {
   "cell_type": "code",
   "execution_count": 72,
   "id": "7143f54e",
   "metadata": {},
   "outputs": [
    {
     "data": {
      "image/png": "[encoded data removed]",
      "text/plain": [
       "<Figure size 1000x600 with 1 Axes>"
      ]
     },
     "metadata": {},
     "output_type": "display_data"
    }
   ],
   "source": [
    "# Visualize Age Distribution\n",
    "\n",
    "plt.figure(figsize=(10, 6))\n",
    "sns.histplot(data['Age (in years)'], bins=30, kde=True)\n",
    "plt.title('Age (in years) Distribution')\n",
    "plt.xlabel('Age (in years)')\n",
    "plt.ylabel('Frequency')\n",
    "plt.show()"
   ]
  },
  {
   "cell_type": "code",
   "execution_count": 73,
   "id": "191729d5",
   "metadata": {},
   "outputs": [
    {
     "data": {
      "image/png": "[encoded data removed]",
      "text/plain": [
       "<Figure size 1000x600 with 1 Axes>"
      ]
     },
     "metadata": {},
     "output_type": "display_data"
    }
   ],
   "source": [
    "# Visualize DFS (in months) Distribution\n",
    "\n",
    "plt.figure(figsize=(10, 6))\n",
    "sns.histplot(data['DFS (in months)'], bins=30, kde=True)\n",
    "plt.title('DFS (in months) Distribution')\n",
    "plt.xlabel('DFS (in months)')\n",
    "plt.ylabel('Frequency')\n",
    "plt.show()"
   ]
  },
  {
   "cell_type": "code",
   "execution_count": 74,
   "id": "ad98ecbb",
   "metadata": {},
   "outputs": [
    {
     "data": {
      "image/png": "[encoded data removed]",
      "text/plain": [
       "<Figure size 1000x600 with 1 Axes>"
      ]
     },
     "metadata": {},
     "output_type": "display_data"
    }
   ],
   "source": [
    "# Visualize DFS Event by Gender\n",
    "# from dataset 1 is male and 0 is female\n",
    "\n",
    "plt.figure(figsize=(10, 6))\n",
    "sns.countplot(x='Gender', hue='DFS event', data=data)\n",
    "plt.title('DFS Event by Gender')\n",
    "plt.xlabel('Gender')\n",
    "plt.ylabel('Count')\n",
    "plt.show()"
   ]
  },
  {
   "cell_type": "code",
   "execution_count": 75,
   "id": "5f072f44",
   "metadata": {},
   "outputs": [
    {
     "data": {
      "image/png": "[encoded data removed]",
      "text/plain": [
       "<Figure size 1000x600 with 1 Axes>"
      ]
     },
     "metadata": {},
     "output_type": "display_data"
    },
    {
     "data": {
      "image/png": "[encoded data removed]",
      "text/plain": [
       "<Figure size 1000x600 with 1 Axes>"
      ]
     },
     "metadata": {},
     "output_type": "display_data"
    }
   ],
   "source": [
    "# Visualize Treatment Effect (Adj_Radio and Adj_Chem)\n",
    "\n",
    "## Adj_Radio Affects DFS event\n",
    "plt.figure(figsize=(10, 6))\n",
    "sns.countplot(x='Adj_Radio', hue='DFS event', data=data)\n",
    "plt.title('DFS Event by Radiotherapy')\n",
    "plt.xlabel('Adj_Radio (0=No, 1=Yes)')\n",
    "plt.ylabel('Count')\n",
    "plt.show()\n",
    "\n",
    "## Adj_Chem Affects DFS event\n",
    "plt.figure(figsize=(10, 6))\n",
    "sns.countplot(x='Adj_Chem', hue='DFS event', data=data)\n",
    "plt.title('DFS Event by Chemotherapy')\n",
    "plt.xlabel('Adj_Chem (0=No, 1=Yes)')\n",
    "plt.ylabel('Count')\n",
    "plt.show()"
   ]
  },
  {
   "cell_type": "markdown",
   "id": "b189a3cf",
   "metadata": {},
   "source": [
    "## Model Training"
   ]
  },
  {
   "cell_type": "code",
   "execution_count": 76,
   "id": "44569c73",
   "metadata": {},
   "outputs": [],
   "source": [
    "# Define features and target variable\n",
    "\n",
    "features = ['Age (in years)', 'DFS (in months)', 'Adj_Radio', 'Adj_Chem', 'Dukes Stage', 'Gender', 'Location']\n",
    "X = data[features]\n",
    "y = data['DFS event']"
   ]
  },
  {
   "cell_type": "markdown",
   "id": "c33e08f4",
   "metadata": {},
   "source": [
    "### Train a Random Forest Model"
   ]
  },
  {
   "cell_type": "code",
   "execution_count": 77,
   "id": "31b91bc4",
   "metadata": {},
   "outputs": [],
   "source": [
    "# Split the data into training and testing sets\n",
    "X_train, X_test, y_train, y_test = train_test_split(X, y, test_size=0.2, random_state=42)"
   ]
  },
  {
   "cell_type": "code",
   "execution_count": 78,
   "id": "38b17f56",
   "metadata": {},
   "outputs": [
    {
     "data": {
      "text/html": [
       "<style>#sk-container-id-2 {color: black;}#sk-container-id-2 pre{padding: 0;}#sk-container-id-2 div.sk-toggleable {background-color: white;}#sk-container-id-2 label.sk-toggleable__label {cursor: pointer;display: block;width: 100%;margin-bottom: 0;padding: 0.3em;box-sizing: border-box;text-align: center;}#sk-container-id-2 label.sk-toggleable__label-arrow:before {content: \"▸\";float: left;margin-right: 0.25em;color: #696969;}#sk-container-id-2 label.sk-toggleable__label-arrow:hover:before {color: black;}#sk-container-id-2 div.sk-estimator:hover label.sk-toggleable__label-arrow:before {color: black;}#sk-container-id-2 div.sk-toggleable__content {max-height: 0;max-width: 0;overflow: hidden;text-align: left;background-color: #f0f8ff;}#sk-container-id-2 div.sk-toggleable__content pre {margin: 0.2em;color: black;border-radius: 0.25em;background-color: #f0f8ff;}#sk-container-id-2 input.sk-toggleable__control:checked~div.sk-toggleable__content {max-height: 200px;max-width: 100%;overflow: auto;}#sk-container-id-2 input.sk-toggleable__control:checked~label.sk-toggleable__label-arrow:before {content: \"▾\";}#sk-container-id-2 div.sk-estimator input.sk-toggleable__control:checked~label.sk-toggleable__label {background-color: #d4ebff;}#sk-container-id-2 div.sk-label input.sk-toggleable__control:checked~label.sk-toggleable__label {background-color: #d4ebff;}#sk-container-id-2 input.sk-hidden--visually {border: 0;clip: rect(1px 1px 1px 1px);clip: rect(1px, 1px, 1px, 1px);height: 1px;margin: -1px;overflow: hidden;padding: 0;position: absolute;width: 1px;}#sk-container-id-2 div.sk-estimator {font-family: monospace;background-color: #f0f8ff;border: 1px dotted black;border-radius: 0.25em;box-sizing: border-box;margin-bottom: 0.5em;}#sk-container-id-2 div.sk-estimator:hover {background-color: #d4ebff;}#sk-container-id-2 div.sk-parallel-item::after {content: \"\";width: 100%;border-bottom: 1px solid gray;flex-grow: 1;}#sk-container-id-2 div.sk-label:hover label.sk-toggleable__label {background-color: #d4ebff;}#sk-container-id-2 div.sk-serial::before {content: \"\";position: absolute;border-left: 1px solid gray;box-sizing: border-box;top: 0;bottom: 0;left: 50%;z-index: 0;}#sk-container-id-2 div.sk-serial {display: flex;flex-direction: column;align-items: center;background-color: white;padding-right: 0.2em;padding-left: 0.2em;position: relative;}#sk-container-id-2 div.sk-item {position: relative;z-index: 1;}#sk-container-id-2 div.sk-parallel {display: flex;align-items: stretch;justify-content: center;background-color: white;position: relative;}#sk-container-id-2 div.sk-item::before, #sk-container-id-2 div.sk-parallel-item::before {content: \"\";position: absolute;border-left: 1px solid gray;box-sizing: border-box;top: 0;bottom: 0;left: 50%;z-index: -1;}#sk-container-id-2 div.sk-parallel-item {display: flex;flex-direction: column;z-index: 1;position: relative;background-color: white;}#sk-container-id-2 div.sk-parallel-item:first-child::after {align-self: flex-end;width: 50%;}#sk-container-id-2 div.sk-parallel-item:last-child::after {align-self: flex-start;width: 50%;}#sk-container-id-2 div.sk-parallel-item:only-child::after {width: 0;}#sk-container-id-2 div.sk-dashed-wrapped {border: 1px dashed gray;margin: 0 0.4em 0.5em 0.4em;box-sizing: border-box;padding-bottom: 0.4em;background-color: white;}#sk-container-id-2 div.sk-label label {font-family: monospace;font-weight: bold;display: inline-block;line-height: 1.2em;}#sk-container-id-2 div.sk-label-container {text-align: center;}#sk-container-id-2 div.sk-container {/* jupyter's `normalize.less` sets `[hidden] { display: none; }` but bootstrap.min.css set `[hidden] { display: none !important; }` so we also need the `!important` here to be able to override the default hidden behavior on the sphinx rendered scikit-learn.org. See: https://github.com/scikit-learn/scikit-learn/issues/21755 */display: inline-block !important;position: relative;}#sk-container-id-2 div.sk-text-repr-fallback {display: none;}</style><div id=\"sk-container-id-2\" class=\"sk-top-container\"><div class=\"sk-text-repr-fallback\"><pre>RandomForestClassifier(random_state=42)</pre><b>In a Jupyter environment, please rerun this cell to show the HTML representation or trust the notebook. <br />On GitHub, the HTML representation is unable to render, please try loading this page with nbviewer.org.</b></div><div class=\"sk-container\" hidden><div class=\"sk-item\"><div class=\"sk-estimator sk-toggleable\"><input class=\"sk-toggleable__control sk-hidden--visually\" id=\"sk-estimator-id-2\" type=\"checkbox\" checked><label for=\"sk-estimator-id-2\" class=\"sk-toggleable__label sk-toggleable__label-arrow\">RandomForestClassifier</label><div class=\"sk-toggleable__content\"><pre>RandomForestClassifier(random_state=42)</pre></div></div></div></div></div>"
      ],
      "text/plain": [
       "RandomForestClassifier(random_state=42)"
      ]
     },
     "execution_count": 78,
     "metadata": {},
     "output_type": "execute_result"
    }
   ],
   "source": [
    "# Initialize and train the model\n",
    "rf = RandomForestClassifier(random_state=42)\n",
    "rf.fit(X_train, y_train)"
   ]
  },
  {
   "cell_type": "code",
   "execution_count": 79,
   "id": "fa882dee",
   "metadata": {},
   "outputs": [],
   "source": [
    "# Predictions\n",
    "y_pred = rf.predict(X_test)\n",
    "y_proba = rf.predict_proba(X_test)[:, 1]"
   ]
  },
  {
   "cell_type": "code",
   "execution_count": 80,
   "id": "fb0d39c1",
   "metadata": {},
   "outputs": [
    {
     "name": "stdout",
     "output_type": "stream",
     "text": [
      "              precision    recall  f1-score   support\n",
      "\n",
      "         0.0       0.60      0.60      0.60         5\n",
      "         1.0       0.75      0.75      0.75         8\n",
      "\n",
      "    accuracy                           0.69        13\n",
      "   macro avg       0.68      0.68      0.68        13\n",
      "weighted avg       0.69      0.69      0.69        13\n",
      "\n",
      "AUC-ROC: 0.8\n"
     ]
    }
   ],
   "source": [
    "# Evaluation\n",
    "print(classification_report(y_test, y_pred))\n",
    "print('AUC-ROC:', roc_auc_score(y_test, y_proba))"
   ]
  },
  {
   "cell_type": "markdown",
   "id": "9964ec08",
   "metadata": {},
   "source": [
    "## Hyperparameter Tuning to optimize the machine learning model's performance by finding the best combination of parameters"
   ]
  },
  {
   "cell_type": "code",
   "execution_count": 81,
   "id": "d1b23021",
   "metadata": {},
   "outputs": [
    {
     "name": "stdout",
     "output_type": "stream",
     "text": [
      "Best parameters found:  {'max_depth': None, 'min_samples_split': 2, 'n_estimators': 100}\n"
     ]
    }
   ],
   "source": [
    "# Hyperparameter grid\n",
    "\n",
    "param_grid = {\n",
    "    'n_estimators': [100, 200, 300],\n",
    "    'max_depth': [None, 10, 20, 30],\n",
    "    'min_samples_split': [2, 5, 10]\n",
    "}\n",
    "\n",
    "grid_search = GridSearchCV(estimator=rf, param_grid=param_grid, cv=5, scoring='roc_auc')\n",
    "grid_search.fit(X_train, y_train)\n",
    "\n",
    "print(\"Best parameters found: \", grid_search.best_params_)\n"
   ]
  }
 ],
 "metadata": {
  "kernelspec": {
   "display_name": "Python 3 (ipykernel)",
   "language": "python",
   "name": "python3"
  },
  "language_info": {
   "codemirror_mode": {
    "name": "ipython",
    "version": 3
   },
   "file_extension": ".py",
   "mimetype": "text/x-python",
   "name": "python",
   "nbconvert_exporter": "python",
   "pygments_lexer": "ipython3",
   "version": "3.11.5"
  }
 },
 "nbformat": 4,
 "nbformat_minor": 5
}
